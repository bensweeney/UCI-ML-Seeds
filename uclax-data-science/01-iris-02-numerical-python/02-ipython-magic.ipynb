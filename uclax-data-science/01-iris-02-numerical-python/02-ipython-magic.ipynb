{
 "cells": [
  {
   "cell_type": "markdown",
   "metadata": {},
   "source": [
    "## IPython Magic\n",
    "\n",
    "IPython magic are special commands that can be used to interact with your System.\n",
    "\n",
    "Enter the following into an IPython session:"
   ]
  },
  {
   "cell_type": "code",
   "execution_count": 1,
   "metadata": {},
   "outputs": [],
   "source": [
    "(an_integer, \n",
    " a_list,\n",
    " a_dictionary,\n",
    " a_set,\n",
    " a_tuple) = 1, [1,2,3], {'k': 1}, {1,2,2,3}, (1,2)"
   ]
  },
  {
   "cell_type": "markdown",
   "metadata": {},
   "source": [
    "### Writing a Function\n",
    "\n",
    "Functions in python are written using the keyword `def`.\n",
    "\n",
    "    def function_name(arg1, arg2):\n",
    "        output_1 = do_something_with(arg1)\n",
    "        output_2 = do_something_with(arg2)\n",
    "        return "
   ]
  },
  {
   "cell_type": "code",
   "execution_count": 2,
   "metadata": {},
   "outputs": [],
   "source": [
    "from sys import getsizeof\n",
    "\n",
    "def sizeof_and_value(variable):\n",
    "    return (getsizeof(variable), variable)"
   ]
  },
  {
   "cell_type": "code",
   "execution_count": 3,
   "metadata": {},
   "outputs": [
    {
     "data": {
      "text/plain": [
       "(28, 1)"
      ]
     },
     "execution_count": 3,
     "metadata": {},
     "output_type": "execute_result"
    }
   ],
   "source": [
    "sizeof_and_value(an_integer)"
   ]
  },
  {
   "cell_type": "code",
   "execution_count": 4,
   "metadata": {},
   "outputs": [
    {
     "data": {
      "text/plain": [
       "(64, (1, 2))"
      ]
     },
     "execution_count": 4,
     "metadata": {},
     "output_type": "execute_result"
    }
   ],
   "source": [
    "sizeof_and_value(a_tuple)"
   ]
  },
  {
   "cell_type": "markdown",
   "metadata": {},
   "source": [
    "### Write a Function\n",
    "\n",
    "Write a function named `type_and_value` that returns the value and the type of a variable that is passed to it.\n",
    "\n",
    "Use the block below to define the function. "
   ]
  },
  {
   "cell_type": "code",
   "execution_count": 4,
   "metadata": {
    "deletable": false,
    "nbgrader": {
     "checksum": "9955a0215eb0f6e63f09c2388d32a82a",
     "grade": false,
     "grade_id": "cell-c48f82b1aae3c2f5",
     "locked": false,
     "schema_version": 1,
     "solution": true
    }
   },
   "outputs": [
    {
     "data": {
      "text/plain": [
       "(int, 1)"
      ]
     },
     "execution_count": 4,
     "metadata": {},
     "output_type": "execute_result"
    }
   ],
   "source": [
    "def type_and_value(var):\n",
    "    return (type(var), var)\n",
    "\n",
    "an_integer = 1\n",
    "type_and_value(an_integer)\n"
   ]
  },
  {
   "cell_type": "markdown",
   "metadata": {},
   "source": [
    "Make sure that your function can pass this test:"
   ]
  },
  {
   "cell_type": "code",
   "execution_count": 5,
   "metadata": {
    "deletable": false,
    "editable": false,
    "nbgrader": {
     "checksum": "bd4a8d83c877f1c96569e5639c3e25b6",
     "grade": true,
     "grade_id": "cell-80a7fd4b5e0528b5",
     "locked": true,
     "points": 2,
     "schema_version": 1,
     "solution": false
    }
   },
   "outputs": [],
   "source": [
    "assert type_and_value(an_integer) == (int, 1)\n"
   ]
  },
  {
   "cell_type": "markdown",
   "metadata": {},
   "source": [
    "## `%whos`\n",
    "\n",
    "Prints a table with some basic details about each identifier you have defined interactively.\n"
   ]
  },
  {
   "cell_type": "code",
   "execution_count": 20,
   "metadata": {},
   "outputs": [
    {
     "name": "stdout",
     "output_type": "stream",
     "text": [
      "Variable           Type                          Data/Info\n",
      "----------------------------------------------------------\n",
      "a_dictionary       dict                          n=1\n",
      "a_list             list                          n=3\n",
      "a_set              set                           {1, 2, 3}\n",
      "a_tuple            tuple                         n=2\n",
      "an_integer         int                           1\n",
      "getsizeof          builtin_function_or_method    <built-in function getsizeof>\n",
      "sizeof_and_value   function                      <function sizeof_and_value at 0x7f31a020b7b8>\n",
      "type_and_value     function                      <function type_and_value at 0x7f31a0121c80>\n"
     ]
    }
   ],
   "source": [
    "%whos "
   ]
  },
  {
   "cell_type": "markdown",
   "metadata": {},
   "source": [
    "## Bash in IPython\n",
    "\n",
    "Bash is a command line language used to interactive with an operating system.\n",
    "\n",
    "Some simple Bash commands can be run in IPython/Jupyter, including\n",
    "\n",
    "- `pwd`\n",
    "- `cd`\n",
    "- `ls`\n",
    "\n",
    "### `pwd` - print working directory"
   ]
  },
  {
   "cell_type": "code",
   "execution_count": 21,
   "metadata": {},
   "outputs": [
    {
     "data": {
      "text/plain": [
       "'/home/bensweeney/uclax-data-science/01-iris-02-numerical-python'"
      ]
     },
     "execution_count": 21,
     "metadata": {},
     "output_type": "execute_result"
    }
   ],
   "source": [
    "%pwd"
   ]
  },
  {
   "cell_type": "markdown",
   "metadata": {},
   "source": [
    "### `cd` - change directory"
   ]
  },
  {
   "cell_type": "code",
   "execution_count": 22,
   "metadata": {},
   "outputs": [
    {
     "name": "stdout",
     "output_type": "stream",
     "text": [
      "/home/bensweeney/uclax-data-science/01-iris-02-numerical-python/src\n"
     ]
    }
   ],
   "source": [
    "%cd src/"
   ]
  },
  {
   "cell_type": "code",
   "execution_count": 23,
   "metadata": {},
   "outputs": [
    {
     "data": {
      "text/plain": [
       "'/home/bensweeney/uclax-data-science/01-iris-02-numerical-python/src'"
      ]
     },
     "execution_count": 23,
     "metadata": {},
     "output_type": "execute_result"
    }
   ],
   "source": [
    "%pwd"
   ]
  },
  {
   "cell_type": "markdown",
   "metadata": {},
   "source": [
    "### `ls` - list files"
   ]
  },
  {
   "cell_type": "code",
   "execution_count": 24,
   "metadata": {},
   "outputs": [
    {
     "name": "stdout",
     "output_type": "stream",
     "text": [
      "a_simple_script.py\r\n"
     ]
    }
   ],
   "source": [
    "%ls"
   ]
  },
  {
   "cell_type": "code",
   "execution_count": 25,
   "metadata": {
    "deletable": false,
    "editable": false,
    "nbgrader": {
     "checksum": "3b4c7afd2c4f4092f8cdc70c0307aa57",
     "grade": true,
     "grade_id": "cell-6a5baeb91a451736",
     "locked": true,
     "points": 2,
     "schema_version": 1,
     "solution": false
    }
   },
   "outputs": [],
   "source": [
    "# HIDDEN TEST\n"
   ]
  },
  {
   "cell_type": "markdown",
   "metadata": {},
   "source": [
    "## IPython Magic commands\n",
    "\n",
    "There are many IPython magic commands, but some of the more useful are\n",
    "\n",
    "- `run`\n",
    "- `matplotlib inline`\n",
    "- `whos`\n"
   ]
  },
  {
   "cell_type": "code",
   "execution_count": 26,
   "metadata": {},
   "outputs": [
    {
     "data": {
      "text/plain": [
       "<Figure size 640x480 with 1 Axes>"
      ]
     },
     "metadata": {},
     "output_type": "display_data"
    }
   ],
   "source": [
    "%run a_simple_script.py"
   ]
  },
  {
   "cell_type": "code",
   "execution_count": 27,
   "metadata": {},
   "outputs": [],
   "source": [
    "%matplotlib inline"
   ]
  },
  {
   "cell_type": "code",
   "execution_count": 28,
   "metadata": {},
   "outputs": [
    {
     "data": {
      "image/png": "[encoded data removed]",
      "text/plain": [
       "<Figure size 432x288 with 1 Axes>"
      ]
     },
     "metadata": {},
     "output_type": "display_data"
    }
   ],
   "source": [
    "%run a_simple_script.py"
   ]
  },
  {
   "cell_type": "code",
   "execution_count": null,
   "metadata": {},
   "outputs": [],
   "source": [
    "# Why didn't the image show up the first time?"
   ]
  },
  {
   "cell_type": "markdown",
   "metadata": {
    "deletable": false,
    "nbgrader": {
     "checksum": "44237df58ec83c7d9d99b831db0937a4",
     "grade": true,
     "grade_id": "cell-e3c4593b0ce6604d",
     "locked": false,
     "points": 3,
     "schema_version": 1,
     "solution": true
    }
   },
   "source": [
    "It needs to be told to generate a plot in the notebook with '%matplotlib inline'; \n",
    "then when the script is run again it will plot the data on the plot.\n",
    "\n"
   ]
  }
 ],
 "metadata": {
  "kernelspec": {
   "display_name": "Python 3",
   "language": "python",
   "name": "python3"
  },
  "language_info": {
   "codemirror_mode": {
    "name": "ipython",
    "version": 3
   },
   "file_extension": ".py",
   "mimetype": "text/x-python",
   "name": "python",
   "nbconvert_exporter": "python",
   "pygments_lexer": "ipython3",
   "version": "3.6.4"
  }
 },
 "nbformat": 4,
 "nbformat_minor": 2
}

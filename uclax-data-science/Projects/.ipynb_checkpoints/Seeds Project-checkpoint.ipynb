{
 "cells": [
  {
   "cell_type": "markdown",
   "metadata": {},
   "source": [
    "SEEDS PROJECT"
   ]
  },
  {
   "cell_type": "code",
   "execution_count": 71,
   "metadata": {},
   "outputs": [
    {
     "data": {
      "text/plain": [
       "'/home/bensweeney/uclax-data-science/Projects'"
      ]
     },
     "execution_count": 71,
     "metadata": {},
     "output_type": "execute_result"
    }
   ],
   "source": [
    "%pwd"
   ]
  },
  {
   "cell_type": "code",
   "execution_count": 72,
   "metadata": {},
   "outputs": [
    {
     "name": "stdout",
     "output_type": "stream",
     "text": [
      "Requirement already satisfied: tqdm in /opt/conda/lib/python3.6/site-packages\n",
      "\u001b[33mYou are using pip version 9.0.1, however version 10.0.1 is available.\n",
      "You should consider upgrading via the 'pip install --upgrade pip' command.\u001b[0m\n"
     ]
    }
   ],
   "source": [
    "!pip install tqdm\n",
    "\n",
    "from tqdm import tqdm\n",
    "from sklearn.cluster import KMeans\n",
    "from sklearn.metrics import silhouette_score\n",
    "from time import time\n",
    "from bic import BIC"
   ]
  },
  {
   "cell_type": "code",
   "execution_count": 112,
   "metadata": {},
   "outputs": [
    {
     "ename": "AttributeError",
     "evalue": "'list' object has no attribute 'shape'",
     "output_type": "error",
     "traceback": [
      "\u001b[0;31m---------------------------------------------------------------------------\u001b[0m",
      "\u001b[0;31mAttributeError\u001b[0m                            Traceback (most recent call last)",
      "\u001b[0;32m<ipython-input-112-e1bd6ce2823c>\u001b[0m in \u001b[0;36m<module>\u001b[0;34m()\u001b[0m\n\u001b[1;32m     28\u001b[0m \u001b[0;31m# seeds_df\u001b[0m\u001b[0;34m\u001b[0m\u001b[0;34m\u001b[0m\u001b[0m\n\u001b[1;32m     29\u001b[0m \u001b[0;34m\u001b[0m\u001b[0m\n\u001b[0;32m---> 30\u001b[0;31m \u001b[0mfeatures\u001b[0m\u001b[0;34m.\u001b[0m\u001b[0mshape\u001b[0m\u001b[0;34m[\u001b[0m\u001b[0;36m1\u001b[0m\u001b[0;34m]\u001b[0m\u001b[0;34m\u001b[0m\u001b[0m\n\u001b[0m",
      "\u001b[0;31mAttributeError\u001b[0m: 'list' object has no attribute 'shape'"
     ]
    }
   ],
   "source": [
    "from sklearn.datasets import load_iris\n",
    "import matplotlib.pyplot as plt\n",
    "import pandas as pd\n",
    "import seaborn as sns\n",
    "import numpy as np\n",
    "import math\n",
    "\n",
    "from sklearn.linear_model import LogisticRegression\n",
    "from patsy import dmatrices\n",
    "from sklearn.metrics import log_loss\n",
    "from sklearn.model_selection import train_test_split\n",
    "from sklearn import datasets\n",
    "from sklearn.dummy import DummyClassifier\n",
    "import scipy.stats as ss\n",
    "from sklearn.metrics import recall_score  \n",
    "from patsy import dmatrices\n",
    "from sklearn.linear_model import LinearRegression\n",
    "\n",
    "\n",
    "%matplotlib inline\n",
    "\n",
    "\n",
    "features = ['Area','Perimeter','Compactness','Length_of_Kernel','Width_of_Kernel','Asymmetry_Coefficient','Length_of_Kernel_Groove','Target']\n",
    "SEEDS_DATA_URL = 'https://archive.ics.uci.edu/ml/machine-learning-databases/00236/seeds_dataset.txt'\n",
    "seeds_df = pd.read_csv(SEEDS_DATA_URL, sep=\"\\s+\", header= None)\n",
    "seeds_df.columns = features\n",
    "\n",
    "# seeds_df\n",
    "\n"
   ]
  },
  {
   "cell_type": "code",
   "execution_count": 119,
   "metadata": {},
   "outputs": [],
   "source": [
    "def BIC(features, target, model):\n",
    "    model.fit(features, target)\n",
    "    prediction = model.predict_proba(features)\n",
    "    n = len(target)\n",
    "    p = features.shape[1] # len(target.keys())\n",
    "    complexity = math.log(n)*(p+1)\n",
    "    likelyhood = -2*log_loss(target, prediction)\n",
    "    return complexity - likelyhood"
   ]
  },
  {
   "cell_type": "code",
   "execution_count": 140,
   "metadata": {},
   "outputs": [
    {
     "name": "stdout",
     "output_type": "stream",
     "text": [
      "43.6729747225\n",
      "43.3371999919\n",
      "43.2717473211\n",
      "43.2791965365\n",
      "43.2785888047\n",
      "43.3804378115\n",
      "43.445939933\n"
     ]
    },
    {
     "name": "stderr",
     "output_type": "stream",
     "text": [
      "/opt/conda/lib/python3.6/site-packages/sklearn/utils/validation.py:578: DataConversionWarning: A column-vector y was passed when a 1d array was expected. Please change the shape of y to (n_samples, ), for example using ravel().\n",
      "  y = column_or_1d(y, warn=True)\n"
     ]
    }
   ],
   "source": [
    "#BIC Round 1\n",
    "\n",
    "target1_1, features1_1 = dmatrices(\"Target ~ 1 + Perimeter + Compactness + Length_of_Kernel + Width_of_Kernel \\\n",
    "                                        + Asymmetry_Coefficient + Length_of_Kernel_Groove\", seeds_df)\n",
    "target1_2, features1_2 = dmatrices(\"Target ~ 1 + Area + Compactness + Length_of_Kernel + Width_of_Kernel \\\n",
    "                                        + Asymmetry_Coefficient + Length_of_Kernel_Groove\", seeds_df)\n",
    "target1_3, features1_3 = dmatrices(\"Target ~ 1 + Area + Perimeter + Length_of_Kernel + Width_of_Kernel \\\n",
    "                                        + Asymmetry_Coefficient + Length_of_Kernel_Groove\", seeds_df)\n",
    "target1_4, features1_4 = dmatrices(\"Target ~ 1 + Area + Perimeter + Compactness + Width_of_Kernel \\\n",
    "                                        + Asymmetry_Coefficient + Length_of_Kernel_Groove\", seeds_df)\n",
    "target1_5, features1_5 = dmatrices(\"Target ~ 1 + Area + Perimeter + Compactness + Length_of_Kernel \\\n",
    "                                        + Asymmetry_Coefficient + Length_of_Kernel_Groove\", seeds_df)\n",
    "target1_6, features1_6 = dmatrices(\"Target ~ 1 + Area + Perimeter + Compactness + Length_of_Kernel + Width_of_Kernel \\\n",
    "                                        + Length_of_Kernel_Groove\", seeds_df)\n",
    "target1_7, features1_7 = dmatrices(\"Target ~ 1 + Area + Perimeter + Compactness + Length_of_Kernel + Width_of_Kernel \\\n",
    "                                        + Asymmetry_Coefficient\", seeds_df)\n",
    "\n",
    "lr_seeds1_1 = LogisticRegression()\n",
    "lr_seeds1_2 = LogisticRegression()\n",
    "lr_seeds1_3 = LogisticRegression()\n",
    "lr_seeds1_4 = LogisticRegression()\n",
    "lr_seeds1_5 = LogisticRegression()\n",
    "lr_seeds1_6 = LogisticRegression()\n",
    "lr_seeds1_7 = LogisticRegression()\n",
    "\n",
    "BIC1_1 = BIC(features1_1, target1_1, lr_seeds1_1)\n",
    "print(BIC1_1)\n",
    "BIC1_2 = BIC(features1_2, target1_2, lr_seeds1_2)\n",
    "print(BIC1_2)\n",
    "BIC1_3 = BIC(features1_3, target1_3, lr_seeds1_3)\n",
    "print(BIC1_3)\n",
    "BIC1_4 = BIC(features1_4, target1_4, lr_seeds1_4)\n",
    "print(BIC1_4)\n",
    "BIC1_5 = BIC(features1_5, target1_5, lr_seeds1_5)\n",
    "print(BIC1_5)\n",
    "BIC1_6 = BIC(features1_6, target1_6, lr_seeds1_6)\n",
    "print(BIC1_6)\n",
    "BIC1_7 = BIC(features1_7, target1_7, lr_seeds1_7)\n",
    "print(BIC1_7)\n"
   ]
  },
  {
   "cell_type": "code",
   "execution_count": null,
   "metadata": {},
   "outputs": [],
   "source": [
    "# BIC Round 2 (Remove Compactness)\n",
    "\n",
    "target2_1, features2_1 = dmatrices(\"Target ~ 1 + Area + Perimeter + Length_of_Kernel + Width_of_Kernel \\\n",
    "                                        + Asymmetry_Coefficient + Length_of_Kernel_Groove\", seeds_df)\n",
    "target2_2, features1_2 = dmatrices(\"Target ~ 1 + Area + Perimeter + Length_of_Kernel + Width_of_Kernel \\\n",
    "                                        + Asymmetry_Coefficient + Length_of_Kernel_Groove\", seeds_df)\n",
    "target2_3, features1_3 = dmatrices(\"Target ~ 1 + Area + Perimeter + Length_of_Kernel + Width_of_Kernel \\\n",
    "                                        + Asymmetry_Coefficient + Length_of_Kernel_Groove\", seeds_df)\n",
    "target2_4, features1_4 = dmatrices(\"Target ~ 1 + Area + Perimeter + Length_of_Kernel + Width_of_Kernel \\\n",
    "                                        + Asymmetry_Coefficient + Length_of_Kernel_Groove\", seeds_df)\n",
    "target2_5, features1_5 = dmatrices(\"Target ~ 1 + Area + Perimeter + Length_of_Kernel + Width_of_Kernel \\\n",
    "                                        + Asymmetry_Coefficient + Length_of_Kernel_Groove\", seeds_df)\n",
    "target2_6, features1_6 = dmatrices(\"Target ~ 1 + Area + Perimeter + Length_of_Kernel + Width_of_Kernel \\\n",
    "                                        + Asymmetry_Coefficient + Length_of_Kernel_Groove\", seeds_df)\n",
    "\n",
    "lr_seeds2_1 = LogisticRegression()\n",
    "lr_seeds2_2 = LogisticRegression()\n",
    "lr_seeds2_3 = LogisticRegression()\n",
    "lr_seeds2_4 = LogisticRegression()\n",
    "lr_seeds2_5 = LogisticRegression()\n",
    "lr_seeds2_6 = LogisticRegression()\n",
    "\n",
    "\n",
    "BIC2_1 = BIC(features2_1, target2_1, lr_seeds2_1)\n",
    "print(BIC2_1)\n",
    "BIC2_2 = BIC(features2_2, target2_2, lr_seeds2_2)\n",
    "print(BIC2_2)\n",
    "BIC2_3 = BIC(features2_3, target2_3, lr_seeds2_3)\n",
    "print(BIC2_3)\n",
    "BIC2_4 = BIC(features2_4, target2_4, lr_seeds2_4)\n",
    "print(BIC2_4)\n",
    "BIC2_5 = BIC(features2_5, target2_5, lr_seeds2_5)\n",
    "print(BIC2_5)\n",
    "BIC2_6 = BIC(features2_6, target2_6, lr_seeds2_6)\n",
    "print(BIC2_6)\n"
   ]
  },
  {
   "cell_type": "code",
   "execution_count": null,
   "metadata": {},
   "outputs": [],
   "source": []
  },
  {
   "cell_type": "code",
   "execution_count": null,
   "metadata": {},
   "outputs": [],
   "source": []
  },
  {
   "cell_type": "code",
   "execution_count": null,
   "metadata": {},
   "outputs": [],
   "source": []
  },
  {
   "cell_type": "code",
   "execution_count": null,
   "metadata": {},
   "outputs": [],
   "source": []
  },
  {
   "cell_type": "code",
   "execution_count": 137,
   "metadata": {},
   "outputs": [],
   "source": [
    "# seeds_df.describe()"
   ]
  },
  {
   "cell_type": "code",
   "execution_count": 6,
   "metadata": {},
   "outputs": [],
   "source": [
    "# Visualize the data\n",
    "\n",
    "# plt.figure(1, (10,10))\n",
    "# sns.pairplot(seeds_df, size=2, aspect=1)"
   ]
  },
  {
   "cell_type": "code",
   "execution_count": 23,
   "metadata": {},
   "outputs": [],
   "source": [
    "#"
   ]
  },
  {
   "cell_type": "code",
   "execution_count": 24,
   "metadata": {},
   "outputs": [],
   "source": [
    "# BIC\n",
    "\n",
    "# model1 = \"Area ~ Perimeter + Compactness + Length of Kernel + Width of Kernel \\\n",
    "#             + Asymmetry Coefficient + Length of Kernel Groove + Target\"\n",
    "# model2 = ''\n",
    "# model3 = ''\n",
    "# model4 = ''\n",
    "# model5 = ''\n",
    "# model6 = ''\n",
    "\n",
    "# BIC1\n",
    "def BIC(features, target, model=model1):\n",
    "    model.fit(features, target)\n",
    "    prediction = model.predict_proba(features)\n",
    "    n = len(target)\n",
    "    p = len(target.keys())\n",
    "    complexity = math.log(n)*(p+1)\n",
    "    likelyhood = -2*log_loss(target, prediction)\n",
    "    return complexity - likelyhood ,\n",
    "\n",
    "\n"
   ]
  },
  {
   "cell_type": "code",
   "execution_count": 25,
   "metadata": {},
   "outputs": [],
   "source": [
    "# Train Test Split\n",
    "\n",
    "target, features = dmatrices(\"Perimeter ~ Area\", seeds_df)\n",
    "\n",
    "(features_train,\n",
    " features_test,\n",
    " target_train,\n",
    " target_test) = train_test_split(features, target, random_state=42) \n",
    "\n",
    "linear_regression_model = LinearRegression(fit_intercept=False)\n",
    "\n",
    "linear_regression_model.fit(features_train, target_train)\n",
    "\n",
    "petal_width_prediction_1_var = (linear_regression_model\n",
    "                                .predict(features_test))"
   ]
  },
  {
   "cell_type": "code",
   "execution_count": 29,
   "metadata": {},
   "outputs": [],
   "source": [
    "# plt.figure(1, (20,5))\n",
    "\n",
    "# plt.scatter(features_test[:, 1], target_test, \n",
    "#             marker='o', color='blue', alpha=0.5, \n",
    "#             label='actual test values')\n",
    "# plt.scatter(features_test[:, 1], petal_width_prediction_1_var,\n",
    "#             marker='x', color='red', alpha=0.5, \n",
    "#             label='predicted test values - 1 variable')\n",
    "# plt.legend()"
   ]
  },
  {
   "cell_type": "code",
   "execution_count": null,
   "metadata": {},
   "outputs": [],
   "source": []
  }
 ],
 "metadata": {
  "kernelspec": {
   "display_name": "Python 3",
   "language": "python",
   "name": "python3"
  },
  "language_info": {
   "codemirror_mode": {
    "name": "ipython",
    "version": 3
   },
   "file_extension": ".py",
   "mimetype": "text/x-python",
   "name": "python",
   "nbconvert_exporter": "python",
   "pygments_lexer": "ipython3",
   "version": "3.6.4"
  }
 },
 "nbformat": 4,
 "nbformat_minor": 2
}
